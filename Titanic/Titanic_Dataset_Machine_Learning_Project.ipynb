{
  "metadata": {
    "kernelspec": {
      "language": "python",
      "display_name": "Python 3",
      "name": "python3"
    },
    "language_info": {
      "name": "python",
      "version": "3.10.12",
      "mimetype": "text/x-python",
      "codemirror_mode": {
        "name": "ipython",
        "version": 3
      },
      "pygments_lexer": "ipython3",
      "nbconvert_exporter": "python",
      "file_extension": ".py"
    },
    "kaggle": {
      "accelerator": "none",
      "dataSources": [
        {
          "sourceId": 3136,
          "databundleVersionId": 26502,
          "sourceType": "competition"
        }
      ],
      "dockerImageVersionId": 30839,
      "isInternetEnabled": true,
      "language": "python",
      "sourceType": "notebook",
      "isGpuEnabled": false
    },
    "colab": {
      "name": "Titanic Dataset Machine Learning Project",
      "provenance": []
    }
  },
  "nbformat_minor": 0,
  "nbformat": 4,
  "cells": [
    {
      "source": [
        "import kagglehub\n",
        "kagglehub.login()\n"
      ],
      "metadata": {
        "id": "2QYB1Q6Eh53d"
      },
      "cell_type": "code",
      "outputs": [],
      "execution_count": null
    },
    {
      "source": [
        "titanic_path = kagglehub.competition_download('titanic')\n",
        "\n",
        "print('Data source import complete.')\n"
      ],
      "metadata": {
        "id": "GCkVEt-ih53g"
      },
      "cell_type": "code",
      "outputs": [],
      "execution_count": null
    },
    {
      "cell_type": "code",
      "source": [
        "import numpy as np # linear algebra\n",
        "import pandas as pd # data processing, CSV file I/O (e.g. pd.read_csv)\n",
        "\n",
        "import os\n",
        "for dirname, _, filenames in os.walk('/kaggle/input'):\n",
        "    for filename in filenames:\n",
        "        print(os.path.join(dirname, filename))\n",
        "\n"
      ],
      "metadata": {
        "_uuid": "8f2839f25d086af736a60e9eeb907d3b93b6e0e5",
        "_cell_guid": "b1076dfc-b9ad-4769-8c92-a6c4dae69d19",
        "trusted": true,
        "execution": {
          "iopub.status.busy": "2025-02-03T17:26:24.11735Z",
          "iopub.execute_input": "2025-02-03T17:26:24.117576Z",
          "iopub.status.idle": "2025-02-03T17:26:24.49495Z",
          "shell.execute_reply.started": "2025-02-03T17:26:24.117553Z",
          "shell.execute_reply": "2025-02-03T17:26:24.493939Z"
        },
        "id": "b_s9OScfh53g"
      },
      "outputs": [],
      "execution_count": null
    },
    {
      "cell_type": "code",
      "source": [
        "import matplotlib.pyplot as plt"
      ],
      "metadata": {
        "trusted": true,
        "execution": {
          "iopub.status.busy": "2025-02-03T17:26:52.382213Z",
          "iopub.execute_input": "2025-02-03T17:26:52.382518Z",
          "iopub.status.idle": "2025-02-03T17:26:52.386341Z",
          "shell.execute_reply.started": "2025-02-03T17:26:52.382494Z",
          "shell.execute_reply": "2025-02-03T17:26:52.385448Z"
        },
        "id": "dfNYZZ6mh53h"
      },
      "outputs": [],
      "execution_count": null
    },
    {
      "cell_type": "code",
      "source": [
        "train_data = pd.read_csv(\"/kaggle/input/titanic/train.csv\")\n",
        "test_data = pd.read_csv(\"/kaggle/input/titanic/test.csv\")"
      ],
      "metadata": {
        "trusted": true,
        "execution": {
          "iopub.status.busy": "2025-02-03T17:27:17.801364Z",
          "iopub.execute_input": "2025-02-03T17:27:17.802285Z",
          "iopub.status.idle": "2025-02-03T17:27:17.82999Z",
          "shell.execute_reply.started": "2025-02-03T17:27:17.802246Z",
          "shell.execute_reply": "2025-02-03T17:27:17.829033Z"
        },
        "id": "uEbfzClCh53h"
      },
      "outputs": [],
      "execution_count": null
    },
    {
      "cell_type": "code",
      "source": [
        "train_data.head()"
      ],
      "metadata": {
        "trusted": true,
        "execution": {
          "iopub.status.busy": "2025-02-03T17:27:26.137454Z",
          "iopub.execute_input": "2025-02-03T17:27:26.137821Z",
          "iopub.status.idle": "2025-02-03T17:27:26.16353Z",
          "shell.execute_reply.started": "2025-02-03T17:27:26.137767Z",
          "shell.execute_reply": "2025-02-03T17:27:26.162735Z"
        },
        "id": "hdXkS16Bh53i"
      },
      "outputs": [],
      "execution_count": null
    },
    {
      "cell_type": "code",
      "source": [
        "if 'Survived' not in test_data.columns:\n",
        "    test_data['Survived'] = 0"
      ],
      "metadata": {
        "trusted": true,
        "execution": {
          "iopub.status.busy": "2025-02-03T17:27:36.622828Z",
          "iopub.execute_input": "2025-02-03T17:27:36.62317Z",
          "iopub.status.idle": "2025-02-03T17:27:36.628362Z",
          "shell.execute_reply.started": "2025-02-03T17:27:36.623144Z",
          "shell.execute_reply": "2025-02-03T17:27:36.627295Z"
        },
        "id": "tyJDi6bRh53i"
      },
      "outputs": [],
      "execution_count": null
    },
    {
      "cell_type": "code",
      "source": [
        "def clean_and_prepare_data(train, test):\n",
        "\n",
        "    combined = pd.concat([train, test], axis=0)\n",
        "\n",
        "    combined = combined.drop(['Name', 'Ticket'], axis=1)\n",
        "\n",
        "    combined['Age'] = combined['Age'].fillna(combined['Age'].mean())\n",
        "    combined['Cabin'] = combined['Cabin'].fillna('X000')\n",
        "    combined['Embarked'] = combined['Embarked'].fillna('X')\n",
        "    combined['Fare'] = combined['Fare'].fillna(combined['Fare'].mean())\n",
        "\n",
        "    combined['CabinLetter'] = combined['Cabin'].str.extract(r'([a-zA-Z]+)', expand=False)\n",
        "    combined['CabinNumber'] = combined['Cabin'].str.extract(r'(\\d+)', expand=False)\n",
        "\n",
        "    combined = combined.drop('Cabin', axis=1)\n",
        "    combined = pd.get_dummies(combined, columns=['CabinLetter', 'Embarked', 'Sex'], prefix=['Cabin', 'Embarked', 'Sex'])\n",
        "    combined = combined.drop(['Cabin_X', 'Embarked_X'], axis=1)\n",
        "\n",
        "    combined['CabinNumber'] = combined['CabinNumber'].fillna(0)\n",
        "    combined['CabinNumber'] = pd.to_numeric(combined['CabinNumber'])\n",
        "    combined['FarePerClass'] = combined['Fare'] // combined['Pclass']\n",
        "    combined['ClassSexInteraction'] = combined['Pclass'] - combined['Sex_female']\n",
        "\n",
        "    train_cleaned = combined[:len(train)]\n",
        "    test_cleaned = combined[len(train):]\n",
        "    test_cleaned = test_cleaned.drop('Survived', axis=1)\n",
        "    return train_cleaned, test_cleaned"
      ],
      "metadata": {
        "trusted": true,
        "execution": {
          "iopub.status.busy": "2025-02-03T17:27:45.192544Z",
          "iopub.execute_input": "2025-02-03T17:27:45.19292Z",
          "iopub.status.idle": "2025-02-03T17:27:45.200479Z",
          "shell.execute_reply.started": "2025-02-03T17:27:45.192892Z",
          "shell.execute_reply": "2025-02-03T17:27:45.199519Z"
        },
        "id": "3-IAzoBih53i"
      },
      "outputs": [],
      "execution_count": null
    },
    {
      "cell_type": "code",
      "source": [
        "cleaned_train, cleaned_test = clean_and_prepare_data(train_data, test_data)"
      ],
      "metadata": {
        "trusted": true,
        "execution": {
          "iopub.status.busy": "2025-02-03T17:27:54.486533Z",
          "iopub.execute_input": "2025-02-03T17:27:54.486911Z",
          "iopub.status.idle": "2025-02-03T17:27:54.519777Z",
          "shell.execute_reply.started": "2025-02-03T17:27:54.486871Z",
          "shell.execute_reply": "2025-02-03T17:27:54.518937Z"
        },
        "id": "lD6O8Zjkh53j"
      },
      "outputs": [],
      "execution_count": null
    },
    {
      "cell_type": "code",
      "source": [
        "correlation = cleaned_train.corr()['Survived']\n",
        "\n",
        "features = cleaned_train.drop('Survived', axis=1)\n",
        "target = cleaned_train['Survived']"
      ],
      "metadata": {
        "trusted": true,
        "execution": {
          "iopub.status.busy": "2025-02-03T17:28:33.873911Z",
          "iopub.execute_input": "2025-02-03T17:28:33.874266Z",
          "iopub.status.idle": "2025-02-03T17:28:33.882929Z",
          "shell.execute_reply.started": "2025-02-03T17:28:33.874238Z",
          "shell.execute_reply": "2025-02-03T17:28:33.882095Z"
        },
        "id": "O-Koyi35h53j"
      },
      "outputs": [],
      "execution_count": null
    },
    {
      "cell_type": "code",
      "source": [
        "from sklearn.model_selection import train_test_split\n",
        "X_train, X_val, y_train, y_val = train_test_split(features, target, test_size=0.2, random_state=42)\n",
        "\n",
        "y_train = y_train.values.reshape(-1, 1)"
      ],
      "metadata": {
        "trusted": true,
        "execution": {
          "iopub.status.busy": "2025-02-03T17:29:02.197237Z",
          "iopub.execute_input": "2025-02-03T17:29:02.197561Z",
          "iopub.status.idle": "2025-02-03T17:29:02.82964Z",
          "shell.execute_reply.started": "2025-02-03T17:29:02.197536Z",
          "shell.execute_reply": "2025-02-03T17:29:02.828663Z"
        },
        "id": "lNEm4Spfh53j"
      },
      "outputs": [],
      "execution_count": null
    },
    {
      "cell_type": "code",
      "source": [
        "from sklearn.linear_model import LogisticRegression\n",
        "from sklearn.metrics import accuracy_score\n",
        "\n",
        "log_reg = LogisticRegression()\n",
        "log_reg.fit(X_train, y_train)\n",
        "log_reg_pred = log_reg.predict(X_val)\n",
        "log_reg_accuracy = accuracy_score(y_val, log_reg_pred)\n",
        "print(f\"Logistic Regression Accuracy: {log_reg_accuracy}\")"
      ],
      "metadata": {
        "trusted": true,
        "execution": {
          "iopub.status.busy": "2025-02-03T17:29:26.223841Z",
          "iopub.execute_input": "2025-02-03T17:29:26.224327Z",
          "iopub.status.idle": "2025-02-03T17:29:26.356088Z",
          "shell.execute_reply.started": "2025-02-03T17:29:26.224298Z",
          "shell.execute_reply": "2025-02-03T17:29:26.355081Z"
        },
        "id": "xxGceayqh53j"
      },
      "outputs": [],
      "execution_count": null
    },
    {
      "cell_type": "code",
      "source": [
        "from xgboost import XGBClassifier\n",
        "from sklearn.ensemble import RandomForestClassifier\n",
        "\n",
        "xgb_clf = XGBClassifier(enable_categorical=True)\n",
        "xgb_clf.fit(X_train, y_train)\n",
        "xgb_pred = xgb_clf.predict(X_val)\n",
        "xgb_accuracy = accuracy_score(y_val, xgb_pred)\n",
        "print(f\"XGBoost Accuracy: {xgb_accuracy}\")"
      ],
      "metadata": {
        "trusted": true,
        "execution": {
          "iopub.status.busy": "2025-02-03T17:29:47.889628Z",
          "iopub.execute_input": "2025-02-03T17:29:47.89002Z",
          "iopub.status.idle": "2025-02-03T17:29:48.481823Z",
          "shell.execute_reply.started": "2025-02-03T17:29:47.88999Z",
          "shell.execute_reply": "2025-02-03T17:29:48.480131Z"
        },
        "id": "GZpSaKwOh53j"
      },
      "outputs": [],
      "execution_count": null
    },
    {
      "cell_type": "code",
      "source": [
        "rf_clf = RandomForestClassifier()\n",
        "rf_clf.fit(X_train, y_train)\n",
        "rf_pred = rf_clf.predict(X_val)\n",
        "rf_accuracy = accuracy_score(y_val, rf_pred)\n",
        "print(f\"Random Forest Accuracy: {rf_accuracy}\")"
      ],
      "metadata": {
        "trusted": true,
        "execution": {
          "iopub.status.busy": "2025-02-03T17:29:56.983186Z",
          "iopub.execute_input": "2025-02-03T17:29:56.983506Z",
          "iopub.status.idle": "2025-02-03T17:29:57.203356Z",
          "shell.execute_reply.started": "2025-02-03T17:29:56.983483Z",
          "shell.execute_reply": "2025-02-03T17:29:57.20254Z"
        },
        "id": "sdZdLq3jh53k"
      },
      "outputs": [],
      "execution_count": null
    },
    {
      "cell_type": "code",
      "source": [
        "test_predictions = rf_clf.predict(cleaned_test)"
      ],
      "metadata": {
        "trusted": true,
        "execution": {
          "iopub.status.busy": "2025-02-03T17:30:08.506504Z",
          "iopub.execute_input": "2025-02-03T17:30:08.506855Z",
          "iopub.status.idle": "2025-02-03T17:30:08.525345Z",
          "shell.execute_reply.started": "2025-02-03T17:30:08.506827Z",
          "shell.execute_reply": "2025-02-03T17:30:08.524506Z"
        },
        "id": "kMdOy8JPh53k"
      },
      "outputs": [],
      "execution_count": null
    },
    {
      "cell_type": "code",
      "source": [
        "submission = pd.DataFrame()\n",
        "submission['PassengerId'] = cleaned_test['PassengerId']\n",
        "submission['Survived'] = test_predictions\n",
        "\n",
        "submission.to_csv('submission.csv', index=False)"
      ],
      "metadata": {
        "trusted": true,
        "execution": {
          "iopub.status.busy": "2025-02-03T17:30:15.404493Z",
          "iopub.execute_input": "2025-02-03T17:30:15.404856Z",
          "iopub.status.idle": "2025-02-03T17:30:15.41704Z",
          "shell.execute_reply.started": "2025-02-03T17:30:15.404817Z",
          "shell.execute_reply": "2025-02-03T17:30:15.416217Z"
        },
        "id": "z8sovqdBh53k"
      },
      "outputs": [],
      "execution_count": null
    },
    {
      "cell_type": "code",
      "source": [],
      "metadata": {
        "trusted": true,
        "id": "R55i_vpQh53k"
      },
      "outputs": [],
      "execution_count": null
    }
  ]
}